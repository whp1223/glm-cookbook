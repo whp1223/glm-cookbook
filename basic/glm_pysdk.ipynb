import os
from zhipuai import ZhipuAI

os.environ["ZHIPUAI_API_KEY"] = cca6ba6cc08c6bbcb6df65c82302258e.ohnq3EMDoAM4MlDl
client = ZhipuAI()
